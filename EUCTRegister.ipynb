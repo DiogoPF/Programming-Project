{
 "cells": [
  {
   "cell_type": "code",
   "execution_count": 55,
   "metadata": {},
   "outputs": [],
   "source": [
    "from requests_html import HTMLSession\n",
    "import pandas as pd\n",
    "\n",
    "import warnings\n",
    "warnings.filterwarnings('ignore')\n",
    "\n",
    "\n",
    "df = pd.DataFrame()\n",
    "url = \"https://www.clinicaltrialsregister.eu/\"\n",
    "s = HTMLSession()\n",
    "\n",
    "page = s.get(url+ 'ctr-search/search?query=&page=')\n",
    "last_page_num = 2 # max([int(a.split('=')[-1]) for a in page.html.links if 'page' in a]) \n",
    "\n",
    "for page_num in range(1,last_page_num):\n",
    "    page = s.get(url+ f'ctr-search/search?query=&page={page_num}')\n",
    "    studies_links = [link for link in page.html.links if link.startswith('/ctr-search/trial') and 'results' not in link]\n",
    "\n",
    "    \n",
    "    for study_link in studies_links:\n",
    "        study = s.get(url+ study_link)\n",
    "        #Study Summary\n",
    "        sum_field = study.html.find('td.cellGrey')                                      #All summary fields\n",
    "        sum_field_value = study.html.find('td.cellLighterGrey')                         #All summary values\n",
    "        study_info= {x.text:y.text for x,y in zip(sum_field,sum_field_value)} \n",
    "\n",
    "        #Study Details\n",
    "        details = study.html.find('tr.tricell')                                         # List of all the other filed and values (objects)\n",
    "        for detail in details:\n",
    "            detail_list = detail.text.split('\\n')                                       # Get text of all objects and split to get a list for each filed,value\n",
    "            if len(detail_list) < 3:\n",
    "                detail_list.append('')                                                  # Add blanks for fields without values \n",
    "            study_info[detail_list[1]] = ' '. join(detail_list[2:])                   # Creates dict with Filed and Value(some filds have multiple values, must clean later if needed)\n",
    "\n",
    "        df = df.append(study_info, ignore_index=True)\n",
    "df.to_csv('EUCTRegister.csv', index=False)"
   ]
  }
 ],
 "metadata": {
  "kernelspec": {
   "display_name": "Study",
   "language": "python",
   "name": "python3"
  },
  "language_info": {
   "codemirror_mode": {
    "name": "ipython",
    "version": 3
   },
   "file_extension": ".py",
   "mimetype": "text/x-python",
   "name": "python",
   "nbconvert_exporter": "python",
   "pygments_lexer": "ipython3",
   "version": "3.9.16"
  },
  "orig_nbformat": 4
 },
 "nbformat": 4,
 "nbformat_minor": 2
}
