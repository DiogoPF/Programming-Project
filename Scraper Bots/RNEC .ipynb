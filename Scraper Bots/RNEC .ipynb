{
 "cells": [
  {
   "cell_type": "code",
   "execution_count": 2,
   "metadata": {},
   "outputs": [
    {
     "name": "stderr",
     "output_type": "stream",
     "text": [
      "C:\\Users\\Diogo\\AppData\\Local\\Temp\\ipykernel_31784\\3642016529.py:72: FutureWarning: The frame.append method is deprecated and will be removed from pandas in a future version. Use pandas.concat instead.\n",
      "  df = df.append(dict, ignore_index=True)\n"
     ]
    }
   ],
   "source": [
    "from selenium import webdriver\n",
    "from selenium.webdriver.common.by import By\n",
    "import time\n",
    "import pandas as pd\n",
    "from bs4 import BeautifulSoup\n",
    "\n",
    "fields = ['t83','t87','t91','t95','t99','t103','t107','t109','t115','t119','t123','t129','t134','t158','t164','t170']\n",
    "keys = ['RNEC Number',\n",
    "        'EudraCT Number',\n",
    "        'Protocol Number',\n",
    "        'Type of Study',\n",
    "        \"Sponsor's Name\",\n",
    "        'Title of the trial',\n",
    "        'Recruitment Status',\n",
    "        'Date of Global End',\n",
    "        'Infarmed Authorization Date',\n",
    "        'CEC Opinion Date',\n",
    "        'Non-technical title',\n",
    "        'Paediatric Investigation Plan',\n",
    "        'Medical condition(s)',\n",
    "        'Therapeutic Confirmatory (Phase II)',\n",
    "        'Therapeutic Confirmatory (Phase III)',\n",
    "        'Therapeutic Confirmatory (Phase IV)',\n",
    "        'Age_Range',\n",
    "        'Gender'\n",
    "        ]\n",
    "\n",
    "\n",
    "data = []\n",
    "df = pd.DataFrame(columns=keys)\n",
    "\n",
    "\n",
    "driver = webdriver.Chrome()\n",
    "driver.get(\"https://www.rnec.pt/pesquisa-de-estudos-clinicos\")\n",
    "study_num = (0, 1)\n",
    "\n",
    "\n",
    "\n",
    "# Initialization -  search button click and Html Refresh (clicks page1)\n",
    "search_button = driver.find_element(By.ID, '_RNECPesquisaEstudosClinicos_WAR_RNECPesquisaEstudosClinicosportlet_:mainForm:j_idt73').click()\n",
    "driver.implicitly_wait(15)\n",
    "page_1_update = driver.find_element(By.XPATH, '//*[@id=\"_RNECPesquisaEstudosClinicos_WAR_RNECPesquisaEstudosClinicosportlet_:mainForm:j_idt79_paginator_bottom\"]/span[3]/span[1]').click()\n",
    "\n",
    "for page in range (1,298):\n",
    "    page_html = driver.page_source\n",
    "    soup = BeautifulSoup(page_html, 'html.parser')\n",
    "    for study in study_num:\n",
    "        study_data = []\n",
    "        for field in fields:\n",
    "            try:\n",
    "                element = soup.find(id=f'_RNECPesquisaEstudosClinicos_WAR_RNECPesquisaEstudosClinicosportlet_:mainForm:j_idt79:{study}:j_id{field}')['value']\n",
    "                         \n",
    "            except:\n",
    "                element = None\n",
    "            study_data.append(element)\n",
    "        try:\n",
    "            age_range= soup.find('label', {'id': f'_RNECPesquisaEstudosClinicos_WAR_RNECPesquisaEstudosClinicosportlet_:mainForm:j_idt79:{study}:j_idt173'}).parent.find_next_sibling().text.strip()\n",
    "            gender = soup.find('label', {'id': f'_RNECPesquisaEstudosClinicos_WAR_RNECPesquisaEstudosClinicosportlet_:mainForm:j_idt79:{study}:j_idt181'}).parent.find_next_sibling().text.strip()\n",
    "        except:\n",
    "            age_range = None\n",
    "            gender = None\n",
    "        study_data.append(age_range)\n",
    "        study_data.append(gender)\n",
    "        data.append(study_data)\n",
    "    \n",
    "    study_num = tuple([x + 2 for x in study_num])\n",
    "    next_page = driver.find_element(By.XPATH, '//*[@id=\"_RNECPesquisaEstudosClinicos_WAR_RNECPesquisaEstudosClinicosportlet_:mainForm:j_idt79_paginator_bottom\"]/span[4]/span').click()\n",
    "    time.sleep(5)\n",
    "    \n",
    "    \n",
    "dict = [{k:v for k,v in zip(keys, d)} for d in data]\n",
    "df = df.append(dict, ignore_index=True)\n",
    "df.to_csv('RNEC.csv', index=False)"
   ]
  },
  {
   "cell_type": "code",
   "execution_count": 3,
   "metadata": {},
   "outputs": [
    {
     "data": {
      "text/plain": [
       "RNEC Number                               0\n",
       "EudraCT Number                            0\n",
       "Protocol Number                           0\n",
       "Type of Study                             0\n",
       "Sponsor's Name                            0\n",
       "Title of the trial                        0\n",
       "Recruitment Status                       32\n",
       "Date of Global End                      594\n",
       "Infarmed Authorization Date               0\n",
       "CEC Opinion Date                          2\n",
       "Non-technical title                       2\n",
       "Paediatric Investigation Plan             0\n",
       "Medical condition(s)                      0\n",
       "Therapeutic Confirmatory (Phase II)     432\n",
       "Therapeutic Confirmatory (Phase III)    164\n",
       "Therapeutic Confirmatory (Phase IV)     562\n",
       "Age_Range                                 0\n",
       "Gender                                    0\n",
       "dtype: int64"
      ]
     },
     "execution_count": 3,
     "metadata": {},
     "output_type": "execute_result"
    }
   ],
   "source": [
    "df.isna().sum()"
   ]
  }
 ],
 "metadata": {
  "kernelspec": {
   "display_name": "Study",
   "language": "python",
   "name": "python3"
  },
  "language_info": {
   "codemirror_mode": {
    "name": "ipython",
    "version": 3
   },
   "file_extension": ".py",
   "mimetype": "text/x-python",
   "name": "python",
   "nbconvert_exporter": "python",
   "pygments_lexer": "ipython3",
   "version": "3.9.16"
  },
  "orig_nbformat": 4
 },
 "nbformat": 4,
 "nbformat_minor": 2
}
