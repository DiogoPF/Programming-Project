{
 "cells": [
  {
   "cell_type": "markdown",
   "id": "3847a3a7",
   "metadata": {},
   "source": [
    "### Libraries and Dataset"
   ]
  },
  {
   "cell_type": "code",
   "execution_count": 1,
   "id": "7af016e2",
   "metadata": {},
   "outputs": [],
   "source": [
    "import pandas as pd\n",
    "import math"
   ]
  },
  {
   "cell_type": "code",
   "execution_count": 2,
   "id": "3a83c2a3",
   "metadata": {},
   "outputs": [],
   "source": [
    "dataset_names = ['2019','2015','2010','2000']"
   ]
  },
  {
   "cell_type": "code",
   "execution_count": 3,
   "id": "669c39c9",
   "metadata": {},
   "outputs": [],
   "source": [
    "count = 1\n",
    "datasets ={}\n",
    "for dataset in dataset_names:\n",
    "    df = pd.read_excel('ghe2019_death-rates-countryfa5d6a0b-0f85-449f-ba5f-ea6fcaeae34c_6f5f17c3-3fae-4660-ad72-56e353b43c55.xlsx',\n",
    "                  sheet_name = count, skiprows = 6, header = 0)\n",
    "    datasets[dataset] = df\n",
    "    count += 1"
   ]
  },
  {
   "cell_type": "markdown",
   "id": "ab5529d7",
   "metadata": {},
   "source": [
    "### Data Cleaning"
   ]
  },
  {
   "cell_type": "markdown",
   "id": "1e18462e",
   "metadata": {},
   "source": [
    "After looking at the excel file downloaded, we can see there are 8 sheets corresponding to the years and indicators. \n",
    "\n",
    "So we have data for 2000, 2010, 2015 and 2019 for the age-standardized death rate and the crude death rate.\n",
    "\n",
    "For the purpose of this project we decided to focus on the ASDR as it takes into adjusts for differences in ages distribution, allowing for a better comparison between countries.\n",
    "\n",
    "Therefore, we will keep only 4 sheets of the excel file."
   ]
  },
  {
   "attachments": {},
   "cell_type": "markdown",
   "id": "97688911",
   "metadata": {},
   "source": [
    "Looking at the information in each sheet, we can see they all follow the same pattern.\n",
    "\n",
    "Our goal will be to clean the data set until we have the following collumns:\n",
    "\n",
    "['Disease Group','Disease Group2','Disease Name','Year','Country'Death Rate]\n",
    "\n",
    "We will start by cleaning the sheets as 4 different separate datasets and group them in the end.\n"
   ]
  },
  {
   "cell_type": "markdown",
   "id": "0f34fa89",
   "metadata": {},
   "source": [
    "#### Remove unnecessary data"
   ]
  },
  {
   "cell_type": "markdown",
   "id": "6b30e3b7",
   "metadata": {},
   "source": [
    "We can see by initial data exploration that diseases and death rates are aggregated into groups with totals for each group.\n",
    "\n",
    "It is possible then to keep just the value of the smallest subset.\n",
    "\n",
    "The other death rates can be later obtained by aggregation methods if required"
   ]
  },
  {
   "cell_type": "code",
   "execution_count": 4,
   "id": "d4b4b4a0",
   "metadata": {},
   "outputs": [],
   "source": [
    "for key, df in datasets.items():\n",
    "    datasets[key] = df.drop(df[df['Sex'] == 'Males'].index)"
   ]
  },
  {
   "cell_type": "code",
   "execution_count": 5,
   "id": "32f9906a",
   "metadata": {},
   "outputs": [],
   "source": [
    "for key, df in datasets.items():\n",
    "    datasets[key] = df.drop(df[df['Sex'] == 'Females'].index)"
   ]
  },
  {
   "cell_type": "code",
   "execution_count": 6,
   "id": "59601a9f",
   "metadata": {},
   "outputs": [],
   "source": [
    "for key, df in datasets.items():\n",
    "    datasets[key] = df.dropna(subset = ['Sex'])"
   ]
  },
  {
   "cell_type": "code",
   "execution_count": 7,
   "id": "2a498157",
   "metadata": {},
   "outputs": [],
   "source": [
    "for key, df in datasets.items():\n",
    "    datasets[key] = df.drop(['Member State\\n(See Notes for explanation of colour codes)','Sex',\n",
    "                             'Unnamed: 2', 'Unnamed: 5','GHE cause', 'Unnamed: 4'], axis = 1)"
   ]
  },
  {
   "cell_type": "code",
   "execution_count": 8,
   "id": "fe4b9665",
   "metadata": {},
   "outputs": [],
   "source": [
    "for key, df in datasets.items():\n",
    "    datasets[key] = df.dropna(subset = ['GHE code'])"
   ]
  },
  {
   "cell_type": "markdown",
   "id": "cb729db2",
   "metadata": {},
   "source": [
    "#### Unpivot Data and merge dataset"
   ]
  },
  {
   "cell_type": "code",
   "execution_count": 9,
   "id": "d4fecf48",
   "metadata": {},
   "outputs": [],
   "source": [
    "column_list = datasets['2019'].columns.tolist()\n",
    "countries = column_list[1:]"
   ]
  },
  {
   "cell_type": "code",
   "execution_count": 10,
   "id": "ec2c9e23",
   "metadata": {},
   "outputs": [],
   "source": [
    "for key, df in datasets.items():\n",
    "    datasets[key] = pd.melt(df, id_vars = ['GHE code'],\n",
    "                 value_vars = countries, var_name = 'Country', value_name = 'Death Rate')"
   ]
  },
  {
   "cell_type": "code",
   "execution_count": 11,
   "id": "cdacbce4",
   "metadata": {},
   "outputs": [],
   "source": [
    "data_frames = [datasets['2000'],datasets['2010'],datasets['2015'],datasets['2019']]\n",
    "years = ['2000','2010','2015','2019']"
   ]
  },
  {
   "cell_type": "code",
   "execution_count": 12,
   "id": "160864a2",
   "metadata": {},
   "outputs": [],
   "source": [
    "for i, df in enumerate(data_frames):\n",
    "    df['Year'] = years[i]"
   ]
  },
  {
   "cell_type": "code",
   "execution_count": 13,
   "id": "84703b53",
   "metadata": {},
   "outputs": [],
   "source": [
    "death_rates = pd.concat(data_frames, ignore_index = True)"
   ]
  },
  {
   "cell_type": "markdown",
   "id": "ea59397d",
   "metadata": {},
   "source": [
    "#### Get the Disease Group columns"
   ]
  },
  {
   "cell_type": "code",
   "execution_count": 14,
   "id": "abf42334",
   "metadata": {},
   "outputs": [],
   "source": [
    "df = pd.read_excel('ghe2019_death-rates-countryfa5d6a0b-0f85-449f-ba5f-ea6fcaeae34c_6f5f17c3-3fae-4660-ad72-56e353b43c55.xlsx',\n",
    "                  sheet_name = 1, skiprows = 6, header = 0)"
   ]
  },
  {
   "cell_type": "code",
   "execution_count": 15,
   "id": "d00a1cb3",
   "metadata": {},
   "outputs": [],
   "source": [
    "df = df.drop(df[df['Sex'] == 'Males'].index)\n",
    "df = df.drop(df[df['Sex'] == 'Females'].index)\n",
    "df = df.dropna(subset = ['Sex'])"
   ]
  },
  {
   "cell_type": "code",
   "execution_count": 16,
   "id": "cba7fe3e",
   "metadata": {},
   "outputs": [],
   "source": [
    "df = df.iloc[2:, [1,2,3,4,5]]"
   ]
  },
  {
   "cell_type": "code",
   "execution_count": 17,
   "id": "f9f23d49",
   "metadata": {},
   "outputs": [],
   "source": [
    "df['Unnamed: 2'] = df['Unnamed: 2'].fillna(method='ffill')"
   ]
  },
  {
   "cell_type": "code",
   "execution_count": 18,
   "id": "155dd13e",
   "metadata": {},
   "outputs": [],
   "source": [
    "index_list = ['I.','II.','III.']\n",
    "names = ['Communicable, maternal, perinatal and nutritional conditions', 'Noncommunicable diseases','Injuries']\n",
    "Disease_Group = dict(zip(index_list,names))"
   ]
  },
  {
   "cell_type": "code",
   "execution_count": 19,
   "id": "208c8587",
   "metadata": {},
   "outputs": [],
   "source": [
    "df['Disease Group'] =df['Unnamed: 2'].map(Disease_Group)"
   ]
  },
  {
   "cell_type": "code",
   "execution_count": 20,
   "id": "f9ceb398",
   "metadata": {},
   "outputs": [],
   "source": [
    "df['GHE cause'] = df['GHE cause'].fillna(method='ffill')"
   ]
  },
  {
   "cell_type": "code",
   "execution_count": 21,
   "id": "9b1e1d01",
   "metadata": {
    "scrolled": true
   },
   "outputs": [],
   "source": [
    "index_conditions = [('I.','A.'),('I.','B.'),('I.','C.'),('I.','D.'),('I.','E.'),\n",
    "                    ('II.','A.'),('II.','B.'),('II.','C.'),('II.','D.'),('II.','E.'),('II.','F.'),('II.','G.'),\n",
    "                    ('II.','H.'),('II.','I.'),('II.','J.'),('II.','K.'),('II.','L.'),('II.','M.'),('II.','N.'),\n",
    "                    ('II.','O.'),('II.','P.'),\n",
    "                    ('III.','A.'),('III.','B.')]"
   ]
  },
  {
   "cell_type": "code",
   "execution_count": 22,
   "id": "3e979200",
   "metadata": {},
   "outputs": [],
   "source": [
    "my_list = list(df['Unnamed: 4'].unique())\n",
    "name_list = [value for value in my_list if not\n",
    "            (isinstance(value, float) and math.isnan(value))]\n",
    "name_list = [value for value in name_list if '.' not in value]"
   ]
  },
  {
   "cell_type": "code",
   "execution_count": 23,
   "id": "acc14945",
   "metadata": {},
   "outputs": [],
   "source": [
    "Disease_Group2 = dict(zip(index_conditions, name_list))"
   ]
  },
  {
   "cell_type": "code",
   "execution_count": 24,
   "id": "381da364",
   "metadata": {},
   "outputs": [],
   "source": [
    "def disease_group_name(row):\n",
    "    key = (row['Unnamed: 2'], row['GHE cause'])\n",
    "    return Disease_Group2.get(key, '')"
   ]
  },
  {
   "cell_type": "code",
   "execution_count": 25,
   "id": "0ebba5b5",
   "metadata": {},
   "outputs": [],
   "source": [
    "df['Disease Group 2'] = df.apply(lambda row: disease_group_name(row), axis = 1)"
   ]
  },
  {
   "cell_type": "code",
   "execution_count": 26,
   "id": "cb23acc8",
   "metadata": {},
   "outputs": [],
   "source": [
    "df = df.dropna(subset=['Unnamed: 5'])"
   ]
  },
  {
   "cell_type": "code",
   "execution_count": 27,
   "id": "a949fe95",
   "metadata": {},
   "outputs": [],
   "source": [
    "df = df[~df['Unnamed: 5'].str.contains('\\.')]"
   ]
  },
  {
   "cell_type": "code",
   "execution_count": 28,
   "id": "da147d5a",
   "metadata": {
    "scrolled": true
   },
   "outputs": [],
   "source": [
    "df.drop(columns = ['Unnamed: 2', 'GHE cause', 'Unnamed: 4'], inplace = True)"
   ]
  },
  {
   "cell_type": "code",
   "execution_count": 29,
   "id": "d650438d",
   "metadata": {},
   "outputs": [],
   "source": [
    "df.rename(columns = {'Unnamed: 5':'Disease Name'}, inplace = True)"
   ]
  },
  {
   "cell_type": "code",
   "execution_count": 30,
   "id": "09ad3a8f",
   "metadata": {},
   "outputs": [],
   "source": [
    "df = df.reindex(columns = ['GHE code', 'Disease Group','Disease Group 2', 'Disease Name'])"
   ]
  },
  {
   "cell_type": "markdown",
   "id": "1e14b5ac",
   "metadata": {},
   "source": [
    "#### Add the Disease Group columns"
   ]
  },
  {
   "cell_type": "code",
   "execution_count": 52,
   "id": "f708b9ce",
   "metadata": {},
   "outputs": [],
   "source": [
    "mortality_rates = pd.merge(df,death_rates, on='GHE code')"
   ]
  },
  {
   "cell_type": "code",
   "execution_count": 53,
   "id": "90ab3548",
   "metadata": {},
   "outputs": [
    {
     "data": {
      "text/plain": [
       "2019    21228\n",
       "2000    21228\n",
       "2015    21228\n",
       "2010    21228\n",
       "Name: Year, dtype: int64"
      ]
     },
     "execution_count": 53,
     "metadata": {},
     "output_type": "execute_result"
    }
   ],
   "source": [
    "mortality_rates['Year'].value_counts()"
   ]
  },
  {
   "cell_type": "markdown",
   "id": "e7e4b3ae",
   "metadata": {},
   "source": [
    "### Check datatypes and missing values"
   ]
  },
  {
   "cell_type": "code",
   "execution_count": 54,
   "id": "c883b157",
   "metadata": {
    "scrolled": true
   },
   "outputs": [
    {
     "name": "stdout",
     "output_type": "stream",
     "text": [
      "<class 'pandas.core.frame.DataFrame'>\n",
      "Int64Index: 84912 entries, 0 to 84911\n",
      "Data columns (total 7 columns):\n",
      " #   Column           Non-Null Count  Dtype  \n",
      "---  ------           --------------  -----  \n",
      " 0   GHE code         84912 non-null  float64\n",
      " 1   Disease Group    84912 non-null  object \n",
      " 2   Disease Group 2  84912 non-null  object \n",
      " 3   Disease Name     84912 non-null  object \n",
      " 4   Country          84912 non-null  object \n",
      " 5   Death Rate       84912 non-null  object \n",
      " 6   Year             84912 non-null  object \n",
      "dtypes: float64(1), object(6)\n",
      "memory usage: 5.2+ MB\n"
     ]
    }
   ],
   "source": [
    "mortality_rates.info()"
   ]
  },
  {
   "cell_type": "code",
   "execution_count": 55,
   "id": "ff846c29",
   "metadata": {},
   "outputs": [],
   "source": [
    "mortality_rates['Death Rate'] = pd.to_numeric(mortality_rates['Death Rate'], errors = 'coerce')"
   ]
  },
  {
   "cell_type": "code",
   "execution_count": 57,
   "id": "0dd6cf7b",
   "metadata": {},
   "outputs": [],
   "source": [
    "mortality_rates['Year'] = pd.to_numeric(mortality_rates['Year'], errors = 'coerce')"
   ]
  },
  {
   "cell_type": "code",
   "execution_count": 58,
   "id": "90da1120",
   "metadata": {},
   "outputs": [
    {
     "name": "stdout",
     "output_type": "stream",
     "text": [
      "<class 'pandas.core.frame.DataFrame'>\n",
      "Int64Index: 84912 entries, 0 to 84911\n",
      "Data columns (total 7 columns):\n",
      " #   Column           Non-Null Count  Dtype  \n",
      "---  ------           --------------  -----  \n",
      " 0   GHE code         84912 non-null  float64\n",
      " 1   Disease Group    84912 non-null  object \n",
      " 2   Disease Group 2  84912 non-null  object \n",
      " 3   Disease Name     84912 non-null  object \n",
      " 4   Country          84912 non-null  object \n",
      " 5   Death Rate       71417 non-null  float64\n",
      " 6   Year             84912 non-null  int64  \n",
      "dtypes: float64(2), int64(1), object(4)\n",
      "memory usage: 5.2+ MB\n"
     ]
    }
   ],
   "source": [
    "mortality_rates.info()"
   ]
  },
  {
   "cell_type": "code",
   "execution_count": 59,
   "id": "c5a569b9",
   "metadata": {},
   "outputs": [
    {
     "data": {
      "text/plain": [
       "GHE code               0\n",
       "Disease Group          0\n",
       "Disease Group 2        0\n",
       "Disease Name           0\n",
       "Country                0\n",
       "Death Rate         13495\n",
       "Year                   0\n",
       "dtype: int64"
      ]
     },
     "execution_count": 59,
     "metadata": {},
     "output_type": "execute_result"
    }
   ],
   "source": [
    "mortality_rates.isna().sum()"
   ]
  },
  {
   "cell_type": "code",
   "execution_count": 61,
   "id": "8211cbbf",
   "metadata": {},
   "outputs": [
    {
     "data": {
      "text/html": [
       "<div>\n",
       "<style scoped>\n",
       "    .dataframe tbody tr th:only-of-type {\n",
       "        vertical-align: middle;\n",
       "    }\n",
       "\n",
       "    .dataframe tbody tr th {\n",
       "        vertical-align: top;\n",
       "    }\n",
       "\n",
       "    .dataframe thead th {\n",
       "        text-align: right;\n",
       "    }\n",
       "</style>\n",
       "<table border=\"1\" class=\"dataframe\">\n",
       "  <thead>\n",
       "    <tr style=\"text-align: right;\">\n",
       "      <th></th>\n",
       "      <th>GHE code</th>\n",
       "      <th>Disease Group</th>\n",
       "      <th>Disease Group 2</th>\n",
       "      <th>Disease Name</th>\n",
       "      <th>Country</th>\n",
       "      <th>Death Rate</th>\n",
       "      <th>Year</th>\n",
       "    </tr>\n",
       "  </thead>\n",
       "  <tbody>\n",
       "    <tr>\n",
       "      <th>327</th>\n",
       "      <td>30.0</td>\n",
       "      <td>Communicable, maternal, perinatal and nutritio...</td>\n",
       "      <td>Infectious and parasitic diseases</td>\n",
       "      <td>Tuberculosis</td>\n",
       "      <td>Seychelles</td>\n",
       "      <td>NaN</td>\n",
       "      <td>2010</td>\n",
       "    </tr>\n",
       "    <tr>\n",
       "      <th>623</th>\n",
       "      <td>30.0</td>\n",
       "      <td>Communicable, maternal, perinatal and nutritio...</td>\n",
       "      <td>Infectious and parasitic diseases</td>\n",
       "      <td>Tuberculosis</td>\n",
       "      <td>Iceland</td>\n",
       "      <td>NaN</td>\n",
       "      <td>2019</td>\n",
       "    </tr>\n",
       "    <tr>\n",
       "      <th>829</th>\n",
       "      <td>40.0</td>\n",
       "      <td>Communicable, maternal, perinatal and nutritio...</td>\n",
       "      <td>Infectious and parasitic diseases</td>\n",
       "      <td>STDs excluding HIV</td>\n",
       "      <td>Luxembourg</td>\n",
       "      <td>NaN</td>\n",
       "      <td>2000</td>\n",
       "    </tr>\n",
       "    <tr>\n",
       "      <th>1500</th>\n",
       "      <td>100.0</td>\n",
       "      <td>Communicable, maternal, perinatal and nutritio...</td>\n",
       "      <td>Infectious and parasitic diseases</td>\n",
       "      <td>HIV/AIDS</td>\n",
       "      <td>Comoros</td>\n",
       "      <td>NaN</td>\n",
       "      <td>2000</td>\n",
       "    </tr>\n",
       "    <tr>\n",
       "      <th>1542</th>\n",
       "      <td>100.0</td>\n",
       "      <td>Communicable, maternal, perinatal and nutritio...</td>\n",
       "      <td>Infectious and parasitic diseases</td>\n",
       "      <td>HIV/AIDS</td>\n",
       "      <td>Iraq</td>\n",
       "      <td>NaN</td>\n",
       "      <td>2000</td>\n",
       "    </tr>\n",
       "    <tr>\n",
       "      <th>...</th>\n",
       "      <td>...</td>\n",
       "      <td>...</td>\n",
       "      <td>...</td>\n",
       "      <td>...</td>\n",
       "      <td>...</td>\n",
       "      <td>...</td>\n",
       "      <td>...</td>\n",
       "    </tr>\n",
       "    <tr>\n",
       "      <th>81976</th>\n",
       "      <td>1580.0</td>\n",
       "      <td>Injuries</td>\n",
       "      <td>Unintentional injuries</td>\n",
       "      <td>Natural disasters</td>\n",
       "      <td>Uruguay</td>\n",
       "      <td>NaN</td>\n",
       "      <td>2019</td>\n",
       "    </tr>\n",
       "    <tr>\n",
       "      <th>81977</th>\n",
       "      <td>1580.0</td>\n",
       "      <td>Injuries</td>\n",
       "      <td>Unintentional injuries</td>\n",
       "      <td>Natural disasters</td>\n",
       "      <td>Uzbekistan</td>\n",
       "      <td>NaN</td>\n",
       "      <td>2019</td>\n",
       "    </tr>\n",
       "    <tr>\n",
       "      <th>81978</th>\n",
       "      <td>1580.0</td>\n",
       "      <td>Injuries</td>\n",
       "      <td>Unintentional injuries</td>\n",
       "      <td>Natural disasters</td>\n",
       "      <td>Vanuatu</td>\n",
       "      <td>NaN</td>\n",
       "      <td>2019</td>\n",
       "    </tr>\n",
       "    <tr>\n",
       "      <th>81979</th>\n",
       "      <td>1580.0</td>\n",
       "      <td>Injuries</td>\n",
       "      <td>Unintentional injuries</td>\n",
       "      <td>Natural disasters</td>\n",
       "      <td>Venezuela (Bolivarian Republic of)</td>\n",
       "      <td>NaN</td>\n",
       "      <td>2019</td>\n",
       "    </tr>\n",
       "    <tr>\n",
       "      <th>81981</th>\n",
       "      <td>1580.0</td>\n",
       "      <td>Injuries</td>\n",
       "      <td>Unintentional injuries</td>\n",
       "      <td>Natural disasters</td>\n",
       "      <td>Yemen</td>\n",
       "      <td>NaN</td>\n",
       "      <td>2019</td>\n",
       "    </tr>\n",
       "  </tbody>\n",
       "</table>\n",
       "<p>13495 rows × 7 columns</p>\n",
       "</div>"
      ],
      "text/plain": [
       "       GHE code                                      Disease Group  \\\n",
       "327        30.0  Communicable, maternal, perinatal and nutritio...   \n",
       "623        30.0  Communicable, maternal, perinatal and nutritio...   \n",
       "829        40.0  Communicable, maternal, perinatal and nutritio...   \n",
       "1500      100.0  Communicable, maternal, perinatal and nutritio...   \n",
       "1542      100.0  Communicable, maternal, perinatal and nutritio...   \n",
       "...         ...                                                ...   \n",
       "81976    1580.0                                           Injuries   \n",
       "81977    1580.0                                           Injuries   \n",
       "81978    1580.0                                           Injuries   \n",
       "81979    1580.0                                           Injuries   \n",
       "81981    1580.0                                           Injuries   \n",
       "\n",
       "                         Disease Group 2        Disease Name  \\\n",
       "327    Infectious and parasitic diseases        Tuberculosis   \n",
       "623    Infectious and parasitic diseases        Tuberculosis   \n",
       "829    Infectious and parasitic diseases  STDs excluding HIV   \n",
       "1500   Infectious and parasitic diseases            HIV/AIDS   \n",
       "1542   Infectious and parasitic diseases            HIV/AIDS   \n",
       "...                                  ...                 ...   \n",
       "81976             Unintentional injuries   Natural disasters   \n",
       "81977             Unintentional injuries   Natural disasters   \n",
       "81978             Unintentional injuries   Natural disasters   \n",
       "81979             Unintentional injuries   Natural disasters   \n",
       "81981             Unintentional injuries   Natural disasters   \n",
       "\n",
       "                                  Country  Death Rate  Year  \n",
       "327                            Seychelles         NaN  2010  \n",
       "623                               Iceland         NaN  2019  \n",
       "829                            Luxembourg         NaN  2000  \n",
       "1500                              Comoros         NaN  2000  \n",
       "1542                                 Iraq         NaN  2000  \n",
       "...                                   ...         ...   ...  \n",
       "81976                             Uruguay         NaN  2019  \n",
       "81977                          Uzbekistan         NaN  2019  \n",
       "81978                             Vanuatu         NaN  2019  \n",
       "81979  Venezuela (Bolivarian Republic of)         NaN  2019  \n",
       "81981                               Yemen         NaN  2019  \n",
       "\n",
       "[13495 rows x 7 columns]"
      ]
     },
     "execution_count": 61,
     "metadata": {},
     "output_type": "execute_result"
    }
   ],
   "source": [
    "mortality_rates[mortality_rates['Death Rate'].isna()]"
   ]
  },
  {
   "cell_type": "code",
   "execution_count": 63,
   "id": "172fffd8",
   "metadata": {},
   "outputs": [],
   "source": [
    "mortality_rates = mortality_rates.dropna(subset = ['Death Rate'])"
   ]
  },
  {
   "cell_type": "code",
   "execution_count": 66,
   "id": "9662acfd",
   "metadata": {},
   "outputs": [
    {
     "name": "stdout",
     "output_type": "stream",
     "text": [
      "<class 'pandas.core.frame.DataFrame'>\n",
      "Int64Index: 71417 entries, 0 to 84911\n",
      "Data columns (total 7 columns):\n",
      " #   Column           Non-Null Count  Dtype  \n",
      "---  ------           --------------  -----  \n",
      " 0   GHE code         71417 non-null  float64\n",
      " 1   Disease Group    71417 non-null  object \n",
      " 2   Disease Group 2  71417 non-null  object \n",
      " 3   Disease Name     71417 non-null  object \n",
      " 4   Country          71417 non-null  object \n",
      " 5   Death Rate       71417 non-null  float64\n",
      " 6   Year             71417 non-null  int64  \n",
      "dtypes: float64(2), int64(1), object(4)\n",
      "memory usage: 4.4+ MB\n"
     ]
    }
   ],
   "source": [
    "mortality_rates.info()"
   ]
  },
  {
   "cell_type": "markdown",
   "id": "41895216",
   "metadata": {},
   "source": [
    "### Export Dataset"
   ]
  },
  {
   "cell_type": "code",
   "execution_count": 67,
   "id": "bd314e76",
   "metadata": {},
   "outputs": [],
   "source": [
    "mortality_rates.to_csv('mortality_rates.csv', index = False)"
   ]
  },
  {
   "cell_type": "code",
   "execution_count": null,
   "id": "d5ac377c",
   "metadata": {},
   "outputs": [],
   "source": []
  }
 ],
 "metadata": {
  "kernelspec": {
   "display_name": "Python 3",
   "language": "python",
   "name": "python3"
  },
  "language_info": {
   "codemirror_mode": {
    "name": "ipython",
    "version": 3
   },
   "file_extension": ".py",
   "mimetype": "text/x-python",
   "name": "python",
   "nbconvert_exporter": "python",
   "pygments_lexer": "ipython3",
   "version": "3.8.8"
  }
 },
 "nbformat": 4,
 "nbformat_minor": 5
}
