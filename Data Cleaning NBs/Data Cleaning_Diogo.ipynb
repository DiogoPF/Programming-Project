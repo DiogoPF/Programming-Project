{
 "cells": [
  {
   "attachments": {},
   "cell_type": "markdown",
   "id": "0b0a1607",
   "metadata": {},
   "source": [
    "# EuCT Data Cleaning"
   ]
  },
  {
   "attachments": {},
   "cell_type": "markdown",
   "id": "ba3e23d8",
   "metadata": {},
   "source": [
    "#### Imports"
   ]
  },
  {
   "cell_type": "code",
   "execution_count": 7,
   "id": "33580fad",
   "metadata": {},
   "outputs": [],
   "source": [
    "import pandas as pd\n",
    "\n",
    "url = 'https://drive.google.com/u/0/uc?id=1Lo6zbyhzTMww79L3ssETF51_E8rUqZi_&export=download&confirm=t&uuid=27bc2a30-2ec0-4717-9db3-c8d7ffcb9995&at=AKKF8vyKYKl999sGvDqE2TG36L3q:1684746320204'\n",
    "trials_raw = pd.read_csv(url, low_memory=False)\n"
   ]
  },
  {
   "cell_type": "code",
   "execution_count": 8,
   "id": "b05fa2d5",
   "metadata": {},
   "outputs": [
    {
     "data": {
      "text/plain": [
       "43464"
      ]
     },
     "execution_count": 8,
     "metadata": {},
     "output_type": "execute_result"
    }
   ],
   "source": [
    "trials_raw.shape\n",
    "\n",
    "len(trials_raw['EudraCT Number:'].value_counts())"
   ]
  },
  {
   "attachments": {},
   "cell_type": "markdown",
   "id": "b6eb854e",
   "metadata": {},
   "source": [
    "Since scrapping was done in a very early stage, we weren't sure wich variables were needed for analysis. We also wanted freedom to explore all of the data avaliable in order to get the whole picture, and then decide wich variables to include. In the scrapping phase, we noticed that some of the the fields for each trial were mandatory but others weren't, so we decided to get all the data and posteriorly filter it.\n",
    "\n",
    "The original dataset has 114333 rows and 181 columns\n"
   ]
  },
  {
   "attachments": {},
   "cell_type": "markdown",
   "id": "3a628530",
   "metadata": {},
   "source": [
    "## 1. Feature Engineering"
   ]
  },
  {
   "attachments": {},
   "cell_type": "markdown",
   "id": "b04e7b9b",
   "metadata": {},
   "source": [
    "### 1.1 Filtering"
   ]
  },
  {
   "cell_type": "code",
   "execution_count": 25,
   "id": "cc18c7b0",
   "metadata": {},
   "outputs": [],
   "source": [
    "fields= {'EudraCT Number:' : 'EudraCT_num',\n",
    "        'Member State Concerned' : 'Country',\n",
    "        'Date on which this record was first entered in the EudraCT database:': 'Start_date',\n",
    "        'Date of the global end of the trial' : 'End_date',\n",
    "        'Trial Status:' : 'Trial_status',\n",
    "        'Status of the sponsor' : 'Sponsor_type',\n",
    "        'Therapeutic area' : 'Therapeutic_area',\n",
    "        'In the Member State concerned years' : 'Years_duration' , \n",
    "        'In the Member State concerned months' : 'Months_duration',\n",
    "        'In the Member State concerned days' : 'Days_duration',\n",
    "        'In the member state' : 'Sample_size',\n",
    "        'Condition being studied is a rare disease' : 'Rare_disease',\n",
    "        'Diagnosis': 'Diagnosis_scope',\n",
    "        'Prophylaxis': 'Prophylaxis_scope',\n",
    "        'Therapy': 'Therapy_scope',\n",
    "        'Safety': 'Safety_scope',\n",
    "        'Efficacy': 'Efficacy_scope',\n",
    "        'Pharmacokinetic': 'Pharmacokinetic_scope',\n",
    "        'Pharmacodynamic': 'Pharmacodynamic_scope',\n",
    "        'Bioequivalence': 'Bioequivalence_scope',\n",
    "        'Dose response': 'Dose_response_scope',\n",
    "        'Pharmacogenetic': 'Pharmacogenetic_scope',\n",
    "        'Pharmacogenomic': 'Pharmacogenomic_scope',\n",
    "        'Pharmacoeconomic': 'Pharmacoeconomic_scope',\n",
    "        'Others': 'Others_scope',\n",
    "        'Human pharmacology (Phase I)' : '1_phase',\n",
    "        'Therapeutic exploratory (Phase II)' : '2_phase' ,\n",
    "        'Therapeutic confirmatory (Phase III)' : '3_phase',\n",
    "        'Therapeutic use (Phase IV)' : '4_phase',\n",
    "        'In Utero': 'In_utero_age',\n",
    "        'Newborns (0-27 days)': 'Newborns_age',\n",
    "        'Infants and toddlers (28 days-23 months)': 'Infants_age',\n",
    "        'Children (2-11years)': 'Children_age',\n",
    "        'Adolescents (12-17 years)': 'Adolescents_age',\n",
    "        'Adults (18-64 years)': 'Adults_age',\n",
    "        'Elderly (>=65 years)': 'Elderly_age',\n",
    "        'Female' : 'Female_gender',\n",
    "        'Male' : 'Male_gender'\n",
    "        }\n",
    "\n",
    "fields = {key: value.lower() for key, value in fields.items()}\n",
    "trials_filtered = trials_raw.rename(columns=fields)[list(fields.values())]\n"
   ]
  },
  {
   "attachments": {},
   "cell_type": "markdown",
   "id": "5231f7da",
   "metadata": {},
   "source": [
    "### 1.2 Cleaning"
   ]
  },
  {
   "attachments": {},
   "cell_type": "markdown",
   "id": "d8696b7d",
   "metadata": {},
   "source": [
    "After filtering the relevant features, we started by defining the agregation funcionts based on the subgroups of columns."
   ]
  },
  {
   "cell_type": "code",
   "execution_count": 26,
   "id": "65d30db1",
   "metadata": {},
   "outputs": [],
   "source": [
    "trials = trials_filtered.dropna(how='all').copy()"
   ]
  },
  {
   "attachments": {},
   "cell_type": "markdown",
   "id": "b1eb986c",
   "metadata": {},
   "source": [
    "Country\n",
    "- Trials outside EU/EEA have that designation on a different field (Clinical Trial Type:). Since the number of nan on country matches this field we can confidently conclude that all the trials that don't have a country assigned are outside the EU."
   ]
  },
  {
   "cell_type": "code",
   "execution_count": 27,
   "id": "0797b013",
   "metadata": {},
   "outputs": [
    {
     "name": "stdout",
     "output_type": "stream",
     "text": [
      "Number of trials outside the Eu/EEA: 1553 \n",
      "Number of nan in Country 1553\n"
     ]
    }
   ],
   "source": [
    "outside = trials_raw['Clinical Trial Type:'].value_counts().values[1]\n",
    "nan =trials.country.isna().sum()\n",
    "print(f\"Number of trials outside the Eu/EEA: {outside} \\nNumber of nan in Country {nan}\")"
   ]
  },
  {
   "cell_type": "code",
   "execution_count": 28,
   "id": "fbe0ac60",
   "metadata": {},
   "outputs": [],
   "source": [
    "trials['country'] = trials.country.str.split('-').str[0].str.strip()              # Get the country name, dropping agency name\n",
    "trials.loc[trials.country == 'Bulgarian Drug Agency', 'country'] = 'Bulgaria' # Bulgaria escaped the convention \n",
    "trials.country = trials.country.fillna('Outside EU/EEA') "
   ]
  },
  {
   "attachments": {},
   "cell_type": "markdown",
   "id": "37ec7755",
   "metadata": {},
   "source": [
    "Therapeutic Area"
   ]
  },
  {
   "cell_type": "code",
   "execution_count": 29,
   "id": "305f6c25",
   "metadata": {},
   "outputs": [],
   "source": [
    "# Separating strings into two new cols\n",
    "trials['topic_category'] = trials.therapeutic_area.str.split('-').str[0].str.split('[').str[0].str.strip()\n",
    "trials['topic_sub_category'] = trials.therapeutic_area.str.split('-').str[1].str.split('[').str[0].str.strip()\n",
    "trials.drop('therapeutic_area', axis=1, inplace=True)"
   ]
  },
  {
   "attachments": {},
   "cell_type": "markdown",
   "id": "f2415eae",
   "metadata": {},
   "source": [
    "Duration"
   ]
  },
  {
   "cell_type": "code",
   "execution_count": 30,
   "id": "6852b46f",
   "metadata": {},
   "outputs": [],
   "source": [
    "trials['years_duration'] = trials['years_duration'].fillna(0)\n",
    "trials['months_duration'] = trials['months_duration'].fillna(0)\n",
    "trials['days_duration'] = trials['days_duration'].fillna(0)\n",
    "\n",
    "trials['duration_days'] = (trials.years_duration * 365) + (trials.months_duration * 30) + trials.days_duration\n",
    "trials.drop(['years_duration', 'months_duration', 'days_duration'], axis=1, inplace=True)\n",
    "\n",
    "scope_cols = trials.loc[:, trials.columns.str.contains('_scope')]"
   ]
  },
  {
   "attachments": {},
   "cell_type": "markdown",
   "id": "a9021f71",
   "metadata": {},
   "source": [
    "Scope & Gender & Age"
   ]
  },
  {
   "cell_type": "code",
   "execution_count": 31,
   "id": "925a1563",
   "metadata": {},
   "outputs": [],
   "source": [
    "def agg(subgroup):\n",
    "    cols = trials.loc[:, trials.columns.str.contains('_' + subgroup)]\n",
    "    trials[subgroup] = cols.apply(lambda x: ', '.join([col.split('_')[0] for col, val in x.items() if val == 'Yes']), axis=1) # Func that adds all col name is value is Yes\n",
    "\n",
    "agg('age')\n",
    "agg('gender')\n",
    "agg('scope')"
   ]
  },
  {
   "cell_type": "code",
   "execution_count": 32,
   "id": "15b0a101",
   "metadata": {},
   "outputs": [],
   "source": [
    "trials.topic_category.fillna('Not possible to specify', inplace=True)\n",
    "trials.topic_sub_category.fillna('Not possible to specify', inplace=True)"
   ]
  },
  {
   "attachments": {},
   "cell_type": "markdown",
   "id": "e9ec9dfe",
   "metadata": {},
   "source": [
    "Phase"
   ]
  },
  {
   "cell_type": "code",
   "execution_count": 33,
   "id": "43b1ac4e",
   "metadata": {},
   "outputs": [],
   "source": [
    "cols = trials.loc[:, trials.columns.str.contains('_phase')]\n",
    "trials['phase'] = cols.apply(lambda x: ''.join([col.split('_')[0] for col, val in x.items() if val == 'Yes']), axis=1)  #Gets phase number if phase is Yes\n",
    "trials['phase'] = trials['phase'].apply(lambda x: max([int(element) for element in x]) if len(x) > 0 else None)         #Turns phase numbers into int list and gets max (= maximum phase of the trial). \n",
    "                                                                                                                        #Converts empty lists to nan - Trials that don't have info on phases"
   ]
  },
  {
   "cell_type": "code",
   "execution_count": 34,
   "id": "7adfcbfd",
   "metadata": {},
   "outputs": [],
   "source": [
    "trials.to_csv('../DataSets/trials.csv', index=False)"
   ]
  }
 ],
 "metadata": {
  "kernelspec": {
   "display_name": "Python 3 (ipykernel)",
   "language": "python",
   "name": "python3"
  },
  "language_info": {
   "codemirror_mode": {
    "name": "ipython",
    "version": 3
   },
   "file_extension": ".py",
   "mimetype": "text/x-python",
   "name": "python",
   "nbconvert_exporter": "python",
   "pygments_lexer": "ipython3",
   "version": "3.9.16"
  }
 },
 "nbformat": 4,
 "nbformat_minor": 5
}
