{
 "cells": [
  {
   "cell_type": "code",
   "execution_count": 27,
   "metadata": {},
   "outputs": [
    {
     "ename": "NoSuchElementException",
     "evalue": "Message: no such element: Unable to locate element: {\"method\":\"xpath\",\"selector\":\"//div[@class='ui-inputfield ui-inputtext ui-widget ui-state-default ui-corner-all']\"}\n  (Session info: chrome=113.0.5672.64)\nStacktrace:\nBacktrace:\n\tGetHandleVerifier [0x00A98893+48451]\n\t(No symbol) [0x00A2B8A1]\n\t(No symbol) [0x00935058]\n\t(No symbol) [0x00960467]\n\t(No symbol) [0x0096069B]\n\t(No symbol) [0x0098DD92]\n\t(No symbol) [0x0097A304]\n\t(No symbol) [0x0098C482]\n\t(No symbol) [0x0097A0B6]\n\t(No symbol) [0x00957E08]\n\t(No symbol) [0x00958F2D]\n\tGetHandleVerifier [0x00CF8E3A+2540266]\n\tGetHandleVerifier [0x00D38959+2801161]\n\tGetHandleVerifier [0x00D3295C+2776588]\n\tGetHandleVerifier [0x00B22280+612144]\n\t(No symbol) [0x00A34F6C]\n\t(No symbol) [0x00A311D8]\n\t(No symbol) [0x00A312BB]\n\t(No symbol) [0x00A24857]\n\tBaseThreadInitThunk [0x75CB7D49+25]\n\tRtlInitializeExceptionChain [0x777EB74B+107]\n\tRtlClearBits [0x777EB6CF+191]\n",
     "output_type": "error",
     "traceback": [
      "\u001b[1;31m---------------------------------------------------------------------------\u001b[0m",
      "\u001b[1;31mNoSuchElementException\u001b[0m                    Traceback (most recent call last)",
      "Cell \u001b[1;32mIn[27], line 13\u001b[0m\n\u001b[0;32m     10\u001b[0m login_form \u001b[39m=\u001b[39m driver\u001b[39m.\u001b[39mfind_element(By\u001b[39m.\u001b[39mID, \u001b[39mr\u001b[39m\u001b[39m'\u001b[39m\u001b[39m_RNECPesquisaEstudosClinicos_WAR_RNECPesquisaEstudosClinicosportlet_:mainForm:j_idt73\u001b[39m\u001b[39m'\u001b[39m)\n\u001b[0;32m     11\u001b[0m login_form\u001b[39m.\u001b[39mclick()\n\u001b[1;32m---> 13\u001b[0m element \u001b[39m=\u001b[39m driver\u001b[39m.\u001b[39;49mfind_element(By\u001b[39m.\u001b[39;49mXPATH , \u001b[39m\"\u001b[39;49m\u001b[39m//div[@class=\u001b[39;49m\u001b[39m'\u001b[39;49m\u001b[39mui-inputfield ui-inputtext ui-widget ui-state-default ui-corner-all\u001b[39;49m\u001b[39m'\u001b[39;49m\u001b[39m]\u001b[39;49m\u001b[39m\"\u001b[39;49m)\n\u001b[0;32m     14\u001b[0m portuguese_text \u001b[39m=\u001b[39m element\u001b[39m.\u001b[39mtext\n\u001b[0;32m     15\u001b[0m \u001b[39mprint\u001b[39m(portuguese_text)\n",
      "File \u001b[1;32mc:\\Users\\Diogo\\anaconda3\\envs\\Study\\lib\\site-packages\\selenium\\webdriver\\remote\\webdriver.py:831\u001b[0m, in \u001b[0;36mWebDriver.find_element\u001b[1;34m(self, by, value)\u001b[0m\n\u001b[0;32m    828\u001b[0m     by \u001b[39m=\u001b[39m By\u001b[39m.\u001b[39mCSS_SELECTOR\n\u001b[0;32m    829\u001b[0m     value \u001b[39m=\u001b[39m \u001b[39mf\u001b[39m\u001b[39m'\u001b[39m\u001b[39m[name=\u001b[39m\u001b[39m\"\u001b[39m\u001b[39m{\u001b[39;00mvalue\u001b[39m}\u001b[39;00m\u001b[39m\"\u001b[39m\u001b[39m]\u001b[39m\u001b[39m'\u001b[39m\n\u001b[1;32m--> 831\u001b[0m \u001b[39mreturn\u001b[39;00m \u001b[39mself\u001b[39;49m\u001b[39m.\u001b[39;49mexecute(Command\u001b[39m.\u001b[39;49mFIND_ELEMENT, {\u001b[39m\"\u001b[39;49m\u001b[39musing\u001b[39;49m\u001b[39m\"\u001b[39;49m: by, \u001b[39m\"\u001b[39;49m\u001b[39mvalue\u001b[39;49m\u001b[39m\"\u001b[39;49m: value})[\u001b[39m\"\u001b[39m\u001b[39mvalue\u001b[39m\u001b[39m\"\u001b[39m]\n",
      "File \u001b[1;32mc:\\Users\\Diogo\\anaconda3\\envs\\Study\\lib\\site-packages\\selenium\\webdriver\\remote\\webdriver.py:440\u001b[0m, in \u001b[0;36mWebDriver.execute\u001b[1;34m(self, driver_command, params)\u001b[0m\n\u001b[0;32m    438\u001b[0m response \u001b[39m=\u001b[39m \u001b[39mself\u001b[39m\u001b[39m.\u001b[39mcommand_executor\u001b[39m.\u001b[39mexecute(driver_command, params)\n\u001b[0;32m    439\u001b[0m \u001b[39mif\u001b[39;00m response:\n\u001b[1;32m--> 440\u001b[0m     \u001b[39mself\u001b[39;49m\u001b[39m.\u001b[39;49merror_handler\u001b[39m.\u001b[39;49mcheck_response(response)\n\u001b[0;32m    441\u001b[0m     response[\u001b[39m\"\u001b[39m\u001b[39mvalue\u001b[39m\u001b[39m\"\u001b[39m] \u001b[39m=\u001b[39m \u001b[39mself\u001b[39m\u001b[39m.\u001b[39m_unwrap_value(response\u001b[39m.\u001b[39mget(\u001b[39m\"\u001b[39m\u001b[39mvalue\u001b[39m\u001b[39m\"\u001b[39m, \u001b[39mNone\u001b[39;00m))\n\u001b[0;32m    442\u001b[0m     \u001b[39mreturn\u001b[39;00m response\n",
      "File \u001b[1;32mc:\\Users\\Diogo\\anaconda3\\envs\\Study\\lib\\site-packages\\selenium\\webdriver\\remote\\errorhandler.py:245\u001b[0m, in \u001b[0;36mErrorHandler.check_response\u001b[1;34m(self, response)\u001b[0m\n\u001b[0;32m    243\u001b[0m         alert_text \u001b[39m=\u001b[39m value[\u001b[39m\"\u001b[39m\u001b[39malert\u001b[39m\u001b[39m\"\u001b[39m]\u001b[39m.\u001b[39mget(\u001b[39m\"\u001b[39m\u001b[39mtext\u001b[39m\u001b[39m\"\u001b[39m)\n\u001b[0;32m    244\u001b[0m     \u001b[39mraise\u001b[39;00m exception_class(message, screen, stacktrace, alert_text)  \u001b[39m# type: ignore[call-arg]  # mypy is not smart enough here\u001b[39;00m\n\u001b[1;32m--> 245\u001b[0m \u001b[39mraise\u001b[39;00m exception_class(message, screen, stacktrace)\n",
      "\u001b[1;31mNoSuchElementException\u001b[0m: Message: no such element: Unable to locate element: {\"method\":\"xpath\",\"selector\":\"//div[@class='ui-inputfield ui-inputtext ui-widget ui-state-default ui-corner-all']\"}\n  (Session info: chrome=113.0.5672.64)\nStacktrace:\nBacktrace:\n\tGetHandleVerifier [0x00A98893+48451]\n\t(No symbol) [0x00A2B8A1]\n\t(No symbol) [0x00935058]\n\t(No symbol) [0x00960467]\n\t(No symbol) [0x0096069B]\n\t(No symbol) [0x0098DD92]\n\t(No symbol) [0x0097A304]\n\t(No symbol) [0x0098C482]\n\t(No symbol) [0x0097A0B6]\n\t(No symbol) [0x00957E08]\n\t(No symbol) [0x00958F2D]\n\tGetHandleVerifier [0x00CF8E3A+2540266]\n\tGetHandleVerifier [0x00D38959+2801161]\n\tGetHandleVerifier [0x00D3295C+2776588]\n\tGetHandleVerifier [0x00B22280+612144]\n\t(No symbol) [0x00A34F6C]\n\t(No symbol) [0x00A311D8]\n\t(No symbol) [0x00A312BB]\n\t(No symbol) [0x00A24857]\n\tBaseThreadInitThunk [0x75CB7D49+25]\n\tRtlInitializeExceptionChain [0x777EB74B+107]\n\tRtlClearBits [0x777EB6CF+191]\n"
     ]
    }
   ],
   "source": [
    "from selenium import webdriver\n",
    "from selenium.webdriver.common.by import By\n",
    "import time\n",
    "\n",
    "# Create a new instance of the Chrome driver\n",
    "driver = webdriver.Chrome()\n",
    "\n",
    "# Navigate to the webpage\n",
    "driver.get(\"https://www.rnec.pt/pesquisa-de-estudos-clinicos\")\n",
    "\n",
    "\n",
    "\n",
    "login_form = driver.find_element(By.ID, r'_RNECPesquisaEstudosClinicos_WAR_RNECPesquisaEstudosClinicosportlet_:mainForm:j_idt73')\n",
    "login_form.click()\n",
    "\n",
    "driver.implicitly_wait(1)\n",
    "\n",
    "# Find the input element by ID\n",
    "input_element = driver.find_element(By.ID , \"_RNECPesquisaEstudosClinicos_WAR_RNECPesquisaEstudosClinicosportlet_:mainForm:j_idt79:0:j_idt83\")\n",
    "\n",
    "# Get the value of the 'value' attribute\n",
    "value = input_element.get_attribute(\"value\")\n",
    "\n",
    "# Print the value\n",
    "print(value)\n",
    "\n",
    "# Close the browser\n",
    "driver.quit()\n",
    "\n",
    "\n",
    " "
   ]
  }
 ],
 "metadata": {
  "kernelspec": {
   "display_name": "Study",
   "language": "python",
   "name": "python3"
  },
  "language_info": {
   "codemirror_mode": {
    "name": "ipython",
    "version": 3
   },
   "file_extension": ".py",
   "mimetype": "text/x-python",
   "name": "python",
   "nbconvert_exporter": "python",
   "pygments_lexer": "ipython3",
   "version": "3.9.16"
  },
  "orig_nbformat": 4
 },
 "nbformat": 4,
 "nbformat_minor": 2
}
